{
  "nbformat": 4,
  "nbformat_minor": 0,
  "metadata": {
    "colab": {
      "provenance": []
    },
    "kernelspec": {
      "name": "python3",
      "display_name": "Python 3"
    },
    "language_info": {
      "name": "python"
    }
  },
  "cells": [
    {
      "cell_type": "code",
      "execution_count": null,
      "metadata": {
        "id": "tNjOVQ6hkb0e"
      },
      "outputs": [],
      "source": []
    },
    {
      "cell_type": "markdown",
      "source": [
        "# Algunas funciones en Python"
      ],
      "metadata": {
        "id": "C7M7H0erltLX"
      }
    },
    {
      "cell_type": "markdown",
      "source": [
        "\n",
        "\n",
        "1.   Input\n",
        "2.   Lambda\n",
        "3.   map\n",
        "\n"
      ],
      "metadata": {
        "id": "dny-6zpNlzyR"
      }
    },
    {
      "cell_type": "markdown",
      "source": [
        "##Ejemplos de la función input"
      ],
      "metadata": {
        "id": "bMOXtrT6mcZy"
      }
    },
    {
      "cell_type": "code",
      "source": [
        "#EL input sirve para poder interactuar con el usuario y se puede agregar a una variable.\n",
        "Ceci = input(\"¿De quién es cumpleaños? \")"
      ],
      "metadata": {
        "colab": {
          "base_uri": "https://localhost:8080/"
        },
        "id": "iFKZjjbeminJ",
        "outputId": "a0efd8fb-2b42-4326-a4d1-af7f5ad02c73"
      },
      "execution_count": null,
      "outputs": [
        {
          "name": "stdout",
          "output_type": "stream",
          "text": [
            "¿De quién es cumpleaños? Ceci\n"
          ]
        }
      ]
    },
    {
      "cell_type": "code",
      "source": [
        "#Para transformar de string a int.\n",
        "edad = int(input(\"¿Cuántos años cumples? \"))"
      ],
      "metadata": {
        "colab": {
          "base_uri": "https://localhost:8080/"
        },
        "id": "KeqhhDppnasu",
        "outputId": "9bdd3161-34ac-4be6-e16d-27af3422a52d"
      },
      "execution_count": null,
      "outputs": [
        {
          "name": "stdout",
          "output_type": "stream",
          "text": [
            "¿Cuántos años cumples? 19\n"
          ]
        }
      ]
    },
    {
      "cell_type": "code",
      "source": [
        "#Print para correr las dos cosas.\n",
        "print(f\"Hoy es cumple de {Ceci} y cumple {edad}\")"
      ],
      "metadata": {
        "colab": {
          "base_uri": "https://localhost:8080/"
        },
        "id": "vYmCEZAPoRuf",
        "outputId": "c8e0e4d3-e941-49df-f68a-238b1ed55cc0"
      },
      "execution_count": null,
      "outputs": [
        {
          "output_type": "stream",
          "name": "stdout",
          "text": [
            "Hoy es cumple de Ceci y cumple 19\n"
          ]
        }
      ]
    },
    {
      "cell_type": "markdown",
      "source": [
        "## La función lambda.\n",
        "\n",
        "Es una función anónima (no tiene nombre) y sirve para crear funciones ad hoc (dentro de un solo código)."
      ],
      "metadata": {
        "id": "w_AmfGHvpBbu"
      }
    },
    {
      "cell_type": "code",
      "source": [
        "def cuadrado(x):\n",
        "  z = x**2\n",
        "  return z"
      ],
      "metadata": {
        "id": "vDUiaHQapT90"
      },
      "execution_count": null,
      "outputs": []
    },
    {
      "cell_type": "code",
      "source": [
        "cuadrado(25)"
      ],
      "metadata": {
        "colab": {
          "base_uri": "https://localhost:8080/"
        },
        "id": "7rmiCmi_pdMl",
        "outputId": "6e4ac675-9382-4648-df61-42a6dcdd3961"
      },
      "execution_count": null,
      "outputs": [
        {
          "output_type": "execute_result",
          "data": {
            "text/plain": [
              "625"
            ]
          },
          "metadata": {},
          "execution_count": 10
        }
      ]
    },
    {
      "cell_type": "code",
      "source": [
        "#La función lambda aquí transforma el x en x al cuadrado, siendo x la variable.\n",
        "cuad = lambda x:x**2\n",
        "\n",
        "cuad(2)"
      ],
      "metadata": {
        "colab": {
          "base_uri": "https://localhost:8080/"
        },
        "id": "dFG0EaXypgcE",
        "outputId": "aece8d7e-e9f2-49b2-c2ed-adba9d34fb86"
      },
      "execution_count": null,
      "outputs": [
        {
          "output_type": "execute_result",
          "data": {
            "text/plain": [
              "4"
            ]
          },
          "metadata": {},
          "execution_count": 11
        }
      ]
    },
    {
      "cell_type": "code",
      "source": [
        "#Se pueden poner operaciones más complejas también.\n",
        "operacion = lambda x, y: x**2 + x*y + 2\n",
        "operacion(2,3)"
      ],
      "metadata": {
        "colab": {
          "base_uri": "https://localhost:8080/"
        },
        "id": "aA1WOLncqg2u",
        "outputId": "67bad479-8c44-4084-8df2-4d3541c4e54e"
      },
      "execution_count": null,
      "outputs": [
        {
          "output_type": "execute_result",
          "data": {
            "text/plain": [
              "12"
            ]
          },
          "metadata": {},
          "execution_count": 12
        }
      ]
    },
    {
      "cell_type": "code",
      "source": [
        "#Importa pi y e de la librería de math\n",
        "import math\n",
        "from math import pi, e"
      ],
      "metadata": {
        "id": "St6cHRr5rUxA"
      },
      "execution_count": null,
      "outputs": []
    },
    {
      "cell_type": "code",
      "source": [
        "pi, e"
      ],
      "metadata": {
        "colab": {
          "base_uri": "https://localhost:8080/"
        },
        "id": "N7pCYDRmrcUb",
        "outputId": "207b4201-a34d-47cc-d2e2-b1ed68a244db"
      },
      "execution_count": null,
      "outputs": [
        {
          "output_type": "execute_result",
          "data": {
            "text/plain": [
              "(3.141592653589793, 2.718281828459045)"
            ]
          },
          "metadata": {},
          "execution_count": 14
        }
      ]
    },
    {
      "cell_type": "code",
      "source": [
        "#Para el área del círculo\n",
        "area_circulo = lambda r : pi*r**2\n",
        "area_circulo(1)"
      ],
      "metadata": {
        "colab": {
          "base_uri": "https://localhost:8080/"
        },
        "id": "J5V9xFHlrnfi",
        "outputId": "a8ac77ab-7622-4b36-922d-21f9d3c59684"
      },
      "execution_count": null,
      "outputs": [
        {
          "output_type": "execute_result",
          "data": {
            "text/plain": [
              "3.141592653589793"
            ]
          },
          "metadata": {},
          "execution_count": 15
        }
      ]
    },
    {
      "cell_type": "markdown",
      "source": [
        "#La función map"
      ],
      "metadata": {
        "id": "wjaGWUJPsMfk"
      }
    },
    {
      "cell_type": "code",
      "source": [
        "#La función map tiene en sus parámetros, una función y algo iterable ya sea una lista o un número. Esta se puede meter a una lista\n",
        "residuo = list(map(lambda x : x%2 , [i for i in range(1,101)]))\n"
      ],
      "metadata": {
        "id": "XPnmBnJAtBlm"
      },
      "execution_count": null,
      "outputs": []
    },
    {
      "cell_type": "code",
      "source": [
        "def residuo_(x):\n",
        "  for x in range(1,101):\n",
        "    return x%2"
      ],
      "metadata": {
        "id": "J-P1UfZpu0QX"
      },
      "execution_count": null,
      "outputs": []
    },
    {
      "cell_type": "code",
      "source": [
        "residuo_(3)"
      ],
      "metadata": {
        "colab": {
          "base_uri": "https://localhost:8080/"
        },
        "id": "mEnI5y8LvKC2",
        "outputId": "e4b19347-2a44-49b6-8228-734702446fcf"
      },
      "execution_count": null,
      "outputs": [
        {
          "output_type": "execute_result",
          "data": {
            "text/plain": [
              "1"
            ]
          },
          "metadata": {},
          "execution_count": 18
        }
      ]
    },
    {
      "cell_type": "code",
      "source": [
        "#Aquí muestra una función exponencial elevada a la x, la cual será de un rango de 1 a 9.\n",
        "exponenciales = set(map(lambda x : e**x , [i for i in range(1,10)]))\n",
        "exponenciales"
      ],
      "metadata": {
        "colab": {
          "base_uri": "https://localhost:8080/"
        },
        "id": "zqG59VBrvckH",
        "outputId": "cfc398b1-870c-46db-eff1-5bad77cd107b"
      },
      "execution_count": null,
      "outputs": [
        {
          "output_type": "execute_result",
          "data": {
            "text/plain": [
              "{2.718281828459045,\n",
              " 7.3890560989306495,\n",
              " 20.085536923187664,\n",
              " 54.59815003314423,\n",
              " 148.41315910257657,\n",
              " 403.428793492735,\n",
              " 1096.6331584284583,\n",
              " 2980.957987041727,\n",
              " 8103.08392757538}"
            ]
          },
          "metadata": {},
          "execution_count": 19
        }
      ]
    },
    {
      "cell_type": "markdown",
      "source": [
        "### Eemplo del uso de la probabilidad clásica.\n",
        "\n",
        "Tenemos el siguiente experimento. Lanzamos dos dados honestos.\n",
        "\n",
        "$$\\Omega = \\{1,2,3,4,5,6\\}\\times \\{1,2,3,4,5,6\\}$$"
      ],
      "metadata": {
        "id": "AjO8ALUv_Zlt"
      }
    },
    {
      "cell_type": "code",
      "source": [
        "import itertools\n",
        "from itertools import product"
      ],
      "metadata": {
        "id": "yk3KGwQLB6bB"
      },
      "execution_count": null,
      "outputs": []
    },
    {
      "cell_type": "code",
      "source": [
        "Omega = set( product({1,2,3,4,5,6}, repeat = 2) )\n",
        "Omega"
      ],
      "metadata": {
        "colab": {
          "base_uri": "https://localhost:8080/"
        },
        "id": "tzseBv0YCANa",
        "outputId": "8120a8aa-c8f4-4687-98da-02467c08eff5"
      },
      "execution_count": null,
      "outputs": [
        {
          "output_type": "execute_result",
          "data": {
            "text/plain": [
              "{(1, 1),\n",
              " (1, 2),\n",
              " (1, 3),\n",
              " (1, 4),\n",
              " (1, 5),\n",
              " (1, 6),\n",
              " (2, 1),\n",
              " (2, 2),\n",
              " (2, 3),\n",
              " (2, 4),\n",
              " (2, 5),\n",
              " (2, 6),\n",
              " (3, 1),\n",
              " (3, 2),\n",
              " (3, 3),\n",
              " (3, 4),\n",
              " (3, 5),\n",
              " (3, 6),\n",
              " (4, 1),\n",
              " (4, 2),\n",
              " (4, 3),\n",
              " (4, 4),\n",
              " (4, 5),\n",
              " (4, 6),\n",
              " (5, 1),\n",
              " (5, 2),\n",
              " (5, 3),\n",
              " (5, 4),\n",
              " (5, 5),\n",
              " (5, 6),\n",
              " (6, 1),\n",
              " (6, 2),\n",
              " (6, 3),\n",
              " (6, 4),\n",
              " (6, 5),\n",
              " (6, 6)}"
            ]
          },
          "metadata": {},
          "execution_count": 31
        }
      ]
    },
    {
      "cell_type": "markdown",
      "source": [
        "La probabilidad de un evento, se calcula como\n",
        "$$\\mathbb{P}(A)=\\frac{\\# A}{\\# \\Omega}. $$"
      ],
      "metadata": {
        "id": "GhPzkfihM0Ys"
      }
    },
    {
      "cell_type": "markdown",
      "source": [
        "Consideremos al siguiente evento:\n",
        "\n",
        "$S$: la suma de los resultados de las caras sea 7"
      ],
      "metadata": {
        "id": "0CO84qPtM-ta"
      }
    },
    {
      "cell_type": "code",
      "source": [
        "S = {o for o in Omega if (o[0]+o[1] == 7)}\n",
        "S"
      ],
      "metadata": {
        "colab": {
          "base_uri": "https://localhost:8080/"
        },
        "id": "gndZWqryOPWg",
        "outputId": "94eba8a2-011c-47b8-ce06-57b5f92c1842"
      },
      "execution_count": null,
      "outputs": [
        {
          "output_type": "execute_result",
          "data": {
            "text/plain": [
              "{(1, 6), (2, 5), (3, 4), (4, 3), (5, 2), (6, 1)}"
            ]
          },
          "metadata": {},
          "execution_count": 33
        }
      ]
    },
    {
      "cell_type": "code",
      "source": [
        "p = len(S)/len(Omega)\n",
        "print(f\"La probabilidad de que la suma sea 7 es: {p}\" )"
      ],
      "metadata": {
        "colab": {
          "base_uri": "https://localhost:8080/"
        },
        "id": "OKEwteocOpjD",
        "outputId": "69ff5c49-0cc2-4de8-de06-0d0d32c1f26b"
      },
      "execution_count": null,
      "outputs": [
        {
          "output_type": "stream",
          "name": "stdout",
          "text": [
            "La probabilidad de que la suma sea 7 es: 0.16666666666666666\n"
          ]
        }
      ]
    },
    {
      "cell_type": "code",
      "source": [
        "from fractions import Fraction\n",
        "Fraction(2,5)"
      ],
      "metadata": {
        "colab": {
          "base_uri": "https://localhost:8080/"
        },
        "id": "rx7v4tiFO9Op",
        "outputId": "93d7d623-1841-4a93-bc50-b5f382696f55"
      },
      "execution_count": null,
      "outputs": [
        {
          "output_type": "execute_result",
          "data": {
            "text/plain": [
              "Fraction(2, 5)"
            ]
          },
          "metadata": {},
          "execution_count": 36
        }
      ]
    },
    {
      "cell_type": "code",
      "source": [
        "#Vamos a crear una función para calcular probabilidades\n",
        "\n",
        "def S(n):\n",
        "  S = {o for o in Omega if (o[0] + o[1] == n)}\n",
        "  return S"
      ],
      "metadata": {
        "id": "dxbXD_qEPL3M"
      },
      "execution_count": null,
      "outputs": []
    },
    {
      "cell_type": "code",
      "source": [
        "S(2)"
      ],
      "metadata": {
        "colab": {
          "base_uri": "https://localhost:8080/"
        },
        "id": "PJz45jPkPdX7",
        "outputId": "d06712fa-4ca8-4740-ac9f-4d4d401dca54"
      },
      "execution_count": null,
      "outputs": [
        {
          "output_type": "execute_result",
          "data": {
            "text/plain": [
              "{(1, 1)}"
            ]
          },
          "metadata": {},
          "execution_count": 40
        }
      ]
    },
    {
      "cell_type": "code",
      "source": [
        "S(3)"
      ],
      "metadata": {
        "colab": {
          "base_uri": "https://localhost:8080/"
        },
        "id": "K9o0Cpy1PmBh",
        "outputId": "7c9cd9a6-3ed0-42a7-da06-0e220bc8256d"
      },
      "execution_count": null,
      "outputs": [
        {
          "output_type": "execute_result",
          "data": {
            "text/plain": [
              "{(1, 2), (2, 1)}"
            ]
          },
          "metadata": {},
          "execution_count": 41
        }
      ]
    },
    {
      "cell_type": "code",
      "source": [
        "S(4)"
      ],
      "metadata": {
        "colab": {
          "base_uri": "https://localhost:8080/"
        },
        "id": "S8XZcWZcPnq-",
        "outputId": "2d87730c-1741-4605-f232-c3e6af44abc5"
      },
      "execution_count": null,
      "outputs": [
        {
          "output_type": "execute_result",
          "data": {
            "text/plain": [
              "{(1, 3), (2, 2), (3, 1)}"
            ]
          },
          "metadata": {},
          "execution_count": 42
        }
      ]
    },
    {
      "cell_type": "code",
      "source": [
        "len(Omega)"
      ],
      "metadata": {
        "colab": {
          "base_uri": "https://localhost:8080/"
        },
        "id": "OiczKV9tPzRc",
        "outputId": "a83a10dc-2435-4c85-ccc2-e6c37b7de70e"
      },
      "execution_count": null,
      "outputs": [
        {
          "output_type": "execute_result",
          "data": {
            "text/plain": [
              "36"
            ]
          },
          "metadata": {},
          "execution_count": 43
        }
      ]
    },
    {
      "cell_type": "code",
      "source": [
        "#Vamos a crear la función de probabilidad\n",
        "\n",
        "def P(A, Omega):\n",
        "  return Fraction(len(A), len(Omega))\n",
        "\n"
      ],
      "metadata": {
        "id": "UCoXngMsP169"
      },
      "execution_count": null,
      "outputs": []
    },
    {
      "cell_type": "code",
      "source": [
        "P(S(7), Omega)"
      ],
      "metadata": {
        "colab": {
          "base_uri": "https://localhost:8080/"
        },
        "id": "DZfPc0lTQK57",
        "outputId": "c91bc0f6-93c8-47e5-9d21-1a33540ef4e1"
      },
      "execution_count": null,
      "outputs": [
        {
          "output_type": "execute_result",
          "data": {
            "text/plain": [
              "Fraction(1, 6)"
            ]
          },
          "metadata": {},
          "execution_count": 45
        }
      ]
    },
    {
      "cell_type": "code",
      "source": [
        "P(S(9), Omega)"
      ],
      "metadata": {
        "colab": {
          "base_uri": "https://localhost:8080/"
        },
        "id": "vg1Po2RCQPxz",
        "outputId": "5eb99d36-39b9-44a8-8193-b3997b5b8d5f"
      },
      "execution_count": null,
      "outputs": [
        {
          "output_type": "execute_result",
          "data": {
            "text/plain": [
              "Fraction(1, 9)"
            ]
          },
          "metadata": {},
          "execution_count": 46
        }
      ]
    },
    {
      "cell_type": "markdown",
      "source": [
        "## Matrices y operaciones"
      ],
      "metadata": {
        "id": "0cjKIkGERXy3"
      }
    },
    {
      "cell_type": "code",
      "source": [
        "import numpy as np\n",
        "class Matriz:\n",
        "  def __init__(self, renglones, columnas):\n",
        "    self.renglones = renglones\n",
        "    self.columnas = columnas\n",
        "    self.coef = np.zeros((renglones,columnas))\n",
        "\n",
        "def coeficientes(self):\n",
        "  print(f\"Ingresa los coeficientes de la matriz ({self.renglones} x {self.columnas})\")\n",
        "  for i in range(self.renglones):\n",
        "    self.coef[i] = map(float, input().split())\n",
        "\n",
        "    def mostrar_matriz(self):\n",
        "      print(self.coef)"
      ],
      "metadata": {
        "id": "OHNalrYYRffg"
      },
      "execution_count": null,
      "outputs": []
    },
    {
      "cell_type": "code",
      "source": [
        "mat = np.array([25,45,67,8,0,1,1,5,18]).reshape(3,3)\n",
        "np.linalg.det(mat)"
      ],
      "metadata": {
        "colab": {
          "base_uri": "https://localhost:8080/"
        },
        "id": "ekN-qINCVuK0",
        "outputId": "fb506c0f-781d-4af9-8a61-080af486232e"
      },
      "execution_count": null,
      "outputs": [
        {
          "output_type": "execute_result",
          "data": {
            "text/plain": [
              "-3879.999999999998"
            ]
          },
          "metadata": {},
          "execution_count": 57
        }
      ]
    }
  ]
}