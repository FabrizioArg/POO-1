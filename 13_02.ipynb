{
  "nbformat": 4,
  "nbformat_minor": 0,
  "metadata": {
    "colab": {
      "provenance": []
    },
    "kernelspec": {
      "name": "python3",
      "display_name": "Python 3"
    },
    "language_info": {
      "name": "python"
    }
  },
  "cells": [
    {
      "cell_type": "markdown",
      "source": [
        "#Clases y herencias"
      ],
      "metadata": {
        "id": "05kP4y44Kidb"
      }
    },
    {
      "cell_type": "markdown",
      "source": [
        "¿Qué es una clase? Es una estructura, que contiene funciones guíandose por una función madre que contiene otras funciones.\n",
        "\n",
        "*   No tomen argumentos\n",
        "*   Muestra enunciados usando el método de inicialización `init`\n",
        "*   El método para crear clases es `class`"
      ],
      "metadata": {
        "id": "mIlrSTMMKrEG"
      }
    },
    {
      "cell_type": "code",
      "execution_count": null,
      "metadata": {
        "id": "xOXG5xfjKBci"
      },
      "outputs": [],
      "source": [
        "class Alvaro():\n",
        "  pass"
      ]
    },
    {
      "cell_type": "code",
      "source": [
        "Alvaro()"
      ],
      "metadata": {
        "id": "HUJCU1CEKY2-"
      },
      "execution_count": null,
      "outputs": []
    },
    {
      "cell_type": "code",
      "source": [
        "#Vamos a crear una clase que se llamará Alvaro\n",
        "\n",
        "class Alvaro:\n",
        "  def __init__(self, edad, bff, Ceci):\n",
        "   self.edad = edad\n",
        "   self.bff = bff\n",
        "   self.Ceci = Ceci\n",
        "\n",
        "  def saludar(self):\n",
        "    print(f\"A los {self.edad} conocí a mi amigo {self.bff}\")\n",
        "\n",
        "  def chisme(self):\n",
        "    print(f\"Alvaro está en el chisme cn {self.bff} y con {self.Ceci}\")\n",
        "\n",
        "\n",
        "\n",
        ""
      ],
      "metadata": {
        "id": "iUnHAxknLDoD"
      },
      "execution_count": 36,
      "outputs": []
    },
    {
      "cell_type": "code",
      "source": [
        "avo= Alvaro(18, \"Jaume\", \"Ceci\")"
      ],
      "metadata": {
        "id": "TlJimAjQQqhG"
      },
      "execution_count": 37,
      "outputs": []
    },
    {
      "cell_type": "code",
      "source": [
        "avo.bff"
      ],
      "metadata": {
        "colab": {
          "base_uri": "https://localhost:8080/",
          "height": 35
        },
        "id": "g7LSVoHvRjt_",
        "outputId": "de1bb00a-9fd4-4f26-eb1c-5c11c95d0873"
      },
      "execution_count": 38,
      "outputs": [
        {
          "output_type": "execute_result",
          "data": {
            "text/plain": [
              "'Jaume'"
            ],
            "application/vnd.google.colaboratory.intrinsic+json": {
              "type": "string"
            }
          },
          "metadata": {},
          "execution_count": 38
        }
      ]
    },
    {
      "cell_type": "code",
      "source": [
        "#¿Cuáles son los argumentos de la clase?\n",
        "\n",
        "avo.edad, avo.bff"
      ],
      "metadata": {
        "colab": {
          "base_uri": "https://localhost:8080/"
        },
        "id": "o7D1HLkUS0Pv",
        "outputId": "b19b8b68-0299-46b2-caeb-86ea7fca5388"
      },
      "execution_count": 27,
      "outputs": [
        {
          "output_type": "execute_result",
          "data": {
            "text/plain": [
              "(19, 'Jaume')"
            ]
          },
          "metadata": {},
          "execution_count": 27
        }
      ]
    },
    {
      "cell_type": "code",
      "source": [
        "avo.saludar()"
      ],
      "metadata": {
        "colab": {
          "base_uri": "https://localhost:8080/"
        },
        "id": "niEefu_qU5NO",
        "outputId": "84f579a6-9620-4993-b903-69d696d6de9a"
      },
      "execution_count": 39,
      "outputs": [
        {
          "output_type": "stream",
          "name": "stdout",
          "text": [
            "A los 18 conocí a mi amigo Jaume\n"
          ]
        }
      ]
    },
    {
      "cell_type": "code",
      "source": [
        "#¿Qué está haciendo Alvaro?\n",
        "\n",
        "avo.chisme()"
      ],
      "metadata": {
        "colab": {
          "base_uri": "https://localhost:8080/"
        },
        "id": "PqeOnf6tVQWr",
        "outputId": "e87bca9b-dc0a-4910-d454-ff72489ab196"
      },
      "execution_count": 40,
      "outputs": [
        {
          "output_type": "stream",
          "name": "stdout",
          "text": [
            "Alvaro está en el chisme cn Jaume y con Ceci\n"
          ]
        }
      ]
    }
  ]
}