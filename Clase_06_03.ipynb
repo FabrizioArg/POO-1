{
  "nbformat": 4,
  "nbformat_minor": 0,
  "metadata": {
    "colab": {
      "provenance": []
    },
    "kernelspec": {
      "name": "python3",
      "display_name": "Python 3"
    },
    "language_info": {
      "name": "python"
    }
  },
  "cells": [
    {
      "cell_type": "markdown",
      "source": [
        "#Try y Except\n",
        "\n",
        "Las funciones `try` y `except` en Python forman parte del manejo de excepciones. Se usan para capturar y manejar errores en tiempo de ejecución, evitando que el programa se detenga abruptamente."
      ],
      "metadata": {
        "id": "5-Tu0E387-i0"
      }
    },
    {
      "cell_type": "code",
      "execution_count": 7,
      "metadata": {
        "colab": {
          "base_uri": "https://localhost:8080/"
        },
        "id": "5Rd4e57n7McE",
        "outputId": "7d77d85b-4d6a-4427-bcf4-3cb88576f184"
      },
      "outputs": [
        {
          "output_type": "stream",
          "name": "stdout",
          "text": [
            "Ingresa un número: 0\n",
            "Error: No puedes dividir entre cero.\n"
          ]
        }
      ],
      "source": [
        "try:\n",
        "    num = int(input(\"Ingresa un número: \"))\n",
        "    resultado = 10 / num\n",
        "\n",
        "except ZeroDivisionError:\n",
        "    print(\"Error: No puedes dividir entre cero.\")\n",
        "\n",
        "except ValueError:\n",
        "    print(\"Error: Ingresa un número válido.\")\n",
        "\n",
        "else:\n",
        "    print(\"El resultado es:\", resultado)  # Se ejecuta solo si no hubo errores\n"
      ]
    }
  ]
}