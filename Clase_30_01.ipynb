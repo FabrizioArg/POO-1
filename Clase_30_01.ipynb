{
  "nbformat": 4,
  "nbformat_minor": 0,
  "metadata": {
    "colab": {
      "provenance": []
    },
    "kernelspec": {
      "name": "python3",
      "display_name": "Python 3"
    },
    "language_info": {
      "name": "python"
    }
  },
  "cells": [
    {
      "cell_type": "code",
      "execution_count": null,
      "metadata": {
        "id": "za59HzcCrjkf"
      },
      "outputs": [],
      "source": []
    },
    {
      "cell_type": "markdown",
      "source": [
        "#Listas y arreglos\n",
        "\n",
        "range $(a,b)$ donde $a$ y $b$ tienen que ser enteros\n",
        "\n",
        "1.   $a\\geq o$\n",
        "2.   $a\\le o$\n",
        "3.   $a< b$\n",
        "\n",
        "\n"
      ],
      "metadata": {
        "id": "PvRoGRPesFRR"
      }
    },
    {
      "cell_type": "code",
      "source": [
        "range(10)"
      ],
      "metadata": {
        "colab": {
          "base_uri": "https://localhost:8080/"
        },
        "id": "gOzgTKcosoDg",
        "outputId": "ce4d4bd2-42e3-48df-82b4-6b56bf000d06"
      },
      "execution_count": 1,
      "outputs": [
        {
          "output_type": "execute_result",
          "data": {
            "text/plain": [
              "range(0, 10)"
            ]
          },
          "metadata": {},
          "execution_count": 1
        }
      ]
    },
    {
      "cell_type": "code",
      "source": [
        "type(range(10))"
      ],
      "metadata": {
        "colab": {
          "base_uri": "https://localhost:8080/"
        },
        "id": "CBROfw1LyMGq",
        "outputId": "03dcd426-1592-460e-bfd6-2c832a74640c"
      },
      "execution_count": 2,
      "outputs": [
        {
          "output_type": "execute_result",
          "data": {
            "text/plain": [
              "range"
            ]
          },
          "metadata": {},
          "execution_count": 2
        }
      ]
    },
    {
      "cell_type": "markdown",
      "source": [
        "La función range contiene el generador de índices o etiquetas en Python. Para ver que elementos tiene el range, usamos un for.\n"
      ],
      "metadata": {
        "id": "CPyJsE4kybXU"
      }
    },
    {
      "cell_type": "markdown",
      "source": [
        "**lista = list(Pares)**\n",
        "\n",
        "    Convierte conjuntos a listas\n"
      ],
      "metadata": {
        "id": "mhB5kn8W1Z6p"
      }
    },
    {
      "cell_type": "code",
      "source": [
        "for i in range(10) :\n",
        "  print(i)"
      ],
      "metadata": {
        "colab": {
          "base_uri": "https://localhost:8080/"
        },
        "id": "TNFchCtCynUY",
        "outputId": "3a784e6b-6b57-4144-ce9e-15d4c7d7c65d"
      },
      "execution_count": 3,
      "outputs": [
        {
          "output_type": "stream",
          "name": "stdout",
          "text": [
            "0\n",
            "1\n",
            "2\n",
            "3\n",
            "4\n",
            "5\n",
            "6\n",
            "7\n",
            "8\n",
            "9\n"
          ]
        }
      ]
    },
    {
      "cell_type": "code",
      "source": [
        "x = 7\n",
        "str(x)"
      ],
      "metadata": {
        "colab": {
          "base_uri": "https://localhost:8080/",
          "height": 35
        },
        "id": "d1JeDHgn06wR",
        "outputId": "c4790d22-b298-48a4-bfc6-cbdd0196b384"
      },
      "execution_count": 4,
      "outputs": [
        {
          "output_type": "execute_result",
          "data": {
            "text/plain": [
              "'7'"
            ],
            "application/vnd.google.colaboratory.intrinsic+json": {
              "type": "string"
            }
          },
          "metadata": {},
          "execution_count": 4
        }
      ]
    },
    {
      "cell_type": "code",
      "source": [
        "#convertir el número a decimales\n",
        "float(x)"
      ],
      "metadata": {
        "colab": {
          "base_uri": "https://localhost:8080/"
        },
        "id": "VjUVNyA51JbR",
        "outputId": "51229333-c2e0-4d0d-8580-f061c2ccc2e9"
      },
      "execution_count": 5,
      "outputs": [
        {
          "output_type": "execute_result",
          "data": {
            "text/plain": [
              "7.0"
            ]
          },
          "metadata": {},
          "execution_count": 5
        }
      ]
    },
    {
      "cell_type": "code",
      "source": [
        "y = \"7\"\n",
        "int(y)"
      ],
      "metadata": {
        "colab": {
          "base_uri": "https://localhost:8080/"
        },
        "id": "FTHe9-fG3W2K",
        "outputId": "eb954263-4800-4764-d11a-61d7ac53a6c3"
      },
      "execution_count": 12,
      "outputs": [
        {
          "output_type": "execute_result",
          "data": {
            "text/plain": [
              "7"
            ]
          },
          "metadata": {},
          "execution_count": 12
        }
      ]
    },
    {
      "cell_type": "code",
      "source": [
        "#No se puede transformas caracteres a int o float.\n",
        "hola = \"Hola Mundo\"\n",
        "int(hola)\n"
      ],
      "metadata": {
        "collapsed": true,
        "id": "Hvwclcfa1wgS"
      },
      "execution_count": 11,
      "outputs": []
    },
    {
      "cell_type": "markdown",
      "source": [
        "Si $A$ un conjunto, sea $a\\in A$"
      ],
      "metadata": {
        "id": "lBtJd4SW_j5s"
      }
    },
    {
      "cell_type": "code",
      "source": [
        "#\n",
        "\n",
        "Indices = [i for i in range(0,21)]\n",
        "Indices"
      ],
      "metadata": {
        "colab": {
          "base_uri": "https://localhost:8080/"
        },
        "id": "oBA79ktt-nou",
        "outputId": "0d0cee44-4139-426c-fe53-4df242e32431"
      },
      "execution_count": 15,
      "outputs": [
        {
          "output_type": "execute_result",
          "data": {
            "text/plain": [
              "[0, 1, 2, 3, 4, 5, 6, 7, 8, 9, 10, 11, 12, 13, 14, 15, 16, 17, 18, 19, 20]"
            ]
          },
          "metadata": {},
          "execution_count": 15
        }
      ]
    },
    {
      "cell_type": "code",
      "source": [
        "Multiplos_3 = [i for i in range(0,21) if i%3 == 0]\n",
        "Multiplos_3"
      ],
      "metadata": {
        "colab": {
          "base_uri": "https://localhost:8080/"
        },
        "id": "DSN2Fbb8A8EL",
        "outputId": "e128cb2d-5213-4d56-9c92-1e61af048592"
      },
      "execution_count": 17,
      "outputs": [
        {
          "output_type": "execute_result",
          "data": {
            "text/plain": [
              "[0, 3, 6, 9, 12, 15, 18]"
            ]
          },
          "metadata": {},
          "execution_count": 17
        }
      ]
    },
    {
      "cell_type": "code",
      "source": [
        "#Los corchetes en el print es el formato que llama a la variable.\n",
        "#Para imprimir dos cosas en el mismo código, se debe utilizar print.\n",
        "\n",
        "Indices = [i for i in range(0,21)]\n",
        "print(f\"Etiquetas: {Indices}\")\n",
        "\n",
        "Multiplos_3 = [i for i in range(0,21) if i%3 == 0]\n",
        "print(f\"Multiplos_3: {Multiplos_3}\")"
      ],
      "metadata": {
        "colab": {
          "base_uri": "https://localhost:8080/"
        },
        "id": "4ECxAjlbCrlJ",
        "outputId": "2550f5f5-499a-4af4-faf0-1d3384b1b68a"
      },
      "execution_count": 20,
      "outputs": [
        {
          "output_type": "stream",
          "name": "stdout",
          "text": [
            "Etiquetas: [0, 1, 2, 3, 4, 5, 6, 7, 8, 9, 10, 11, 12, 13, 14, 15, 16, 17, 18, 19, 20]\n",
            "Multiplos_3: [0, 3, 6, 9, 12, 15, 18]\n"
          ]
        }
      ]
    },
    {
      "cell_type": "markdown",
      "source": [
        "#Ingresos"
      ],
      "metadata": {
        "id": "HdZ9tf-0E2fw"
      }
    },
    {
      "cell_type": "code",
      "source": [
        "#Append sirve para agregar elementos a una lista\n",
        "Ceci = []\n",
        "\n",
        "Ceci.append(18)\n",
        "Ceci"
      ],
      "metadata": {
        "colab": {
          "base_uri": "https://localhost:8080/"
        },
        "id": "u1VODETGE5-o",
        "outputId": "f6879da3-2b0a-4f3f-b611-f093d1acb95c"
      },
      "execution_count": 35,
      "outputs": [
        {
          "output_type": "execute_result",
          "data": {
            "text/plain": [
              "[18]"
            ]
          },
          "metadata": {},
          "execution_count": 35
        }
      ]
    },
    {
      "cell_type": "code",
      "source": [
        "Ceci.insert(1, \"Violín\")\n",
        "Ceci"
      ],
      "metadata": {
        "colab": {
          "base_uri": "https://localhost:8080/"
        },
        "id": "sMByOPh1GkwP",
        "outputId": "70350cdf-8d37-4c2c-d11c-bd28310771da"
      },
      "execution_count": 62,
      "outputs": [
        {
          "output_type": "execute_result",
          "data": {
            "text/plain": [
              "[18, 'Violín', 'Violín', 1.62, 'Perro']"
            ]
          },
          "metadata": {},
          "execution_count": 62
        }
      ]
    },
    {
      "cell_type": "code",
      "source": [
        "Ceci.append(1.62)\n",
        "Ceci"
      ],
      "metadata": {
        "colab": {
          "base_uri": "https://localhost:8080/"
        },
        "id": "_kTvXW16HQM2",
        "outputId": "f33fe8fa-b0cd-4b29-ae08-0bffa4a75490"
      },
      "execution_count": 37,
      "outputs": [
        {
          "output_type": "execute_result",
          "data": {
            "text/plain": [
              "[18, 'Violín', 1.62]"
            ]
          },
          "metadata": {},
          "execution_count": 37
        }
      ]
    },
    {
      "cell_type": "code",
      "source": [
        "Ceci.insert(4, \"Perro\")\n",
        "Ceci"
      ],
      "metadata": {
        "colab": {
          "base_uri": "https://localhost:8080/"
        },
        "id": "0wQbJgaRHzLM",
        "outputId": "45c9a301-d322-49e0-9634-3b72e75ea9da"
      },
      "execution_count": 79,
      "outputs": [
        {
          "output_type": "execute_result",
          "data": {
            "text/plain": [
              "[18, 'Violín', 1.62, 'Perro']"
            ]
          },
          "metadata": {},
          "execution_count": 79
        }
      ]
    },
    {
      "cell_type": "code",
      "source": [
        "Ceci[0]"
      ],
      "metadata": {
        "colab": {
          "base_uri": "https://localhost:8080/"
        },
        "id": "wkcxkFWYHtdl",
        "outputId": "4067cb3c-9a92-4f84-edb7-afa36e922515"
      },
      "execution_count": 68,
      "outputs": [
        {
          "output_type": "execute_result",
          "data": {
            "text/plain": [
              "18"
            ]
          },
          "metadata": {},
          "execution_count": 68
        }
      ]
    },
    {
      "cell_type": "code",
      "source": [
        "#El remove quita lo indicado por el usuario, la palabra\n",
        "Ceci.remove(\"Perro\")\n"
      ],
      "metadata": {
        "id": "kN7fWXDUIhF1"
      },
      "execution_count": 77,
      "outputs": []
    },
    {
      "cell_type": "code",
      "source": [
        "Ceci"
      ],
      "metadata": {
        "colab": {
          "base_uri": "https://localhost:8080/"
        },
        "id": "8PFXoYqGIw29",
        "outputId": "fbb9c1b9-4c8b-4aab-ae5d-93cebc1219c4"
      },
      "execution_count": 82,
      "outputs": [
        {
          "output_type": "execute_result",
          "data": {
            "text/plain": [
              "[18, 'Violín', 1.62, 'Perro']"
            ]
          },
          "metadata": {},
          "execution_count": 82
        }
      ]
    },
    {
      "cell_type": "code",
      "source": [
        "Ceci"
      ],
      "metadata": {
        "colab": {
          "base_uri": "https://localhost:8080/"
        },
        "id": "xzKqcpWHJMSr",
        "outputId": "63296c06-26ae-45f1-ab7f-b36c567cbf63"
      },
      "execution_count": 74,
      "outputs": [
        {
          "output_type": "execute_result",
          "data": {
            "text/plain": [
              "[18, 'Violín', 1.62]"
            ]
          },
          "metadata": {},
          "execution_count": 74
        }
      ]
    },
    {
      "cell_type": "code",
      "source": [
        "#El .pop quita la posición indicada por el usuario, empezando desde 0.\n",
        "Ceci.pop(1)"
      ],
      "metadata": {
        "colab": {
          "base_uri": "https://localhost:8080/",
          "height": 35
        },
        "id": "mWx9ImQDJHQp",
        "outputId": "2dda7e06-3242-41a2-8ac9-08fff2cb7bc3"
      },
      "execution_count": 71,
      "outputs": [
        {
          "output_type": "execute_result",
          "data": {
            "text/plain": [
              "'Violín'"
            ],
            "application/vnd.google.colaboratory.intrinsic+json": {
              "type": "string"
            }
          },
          "metadata": {},
          "execution_count": 71
        }
      ]
    },
    {
      "cell_type": "code",
      "source": [
        "#Los dos puntos sirven como rango, muestra las posiciones desde la posición indicada hasta el n-1.\n",
        "Ceci[0:2]"
      ],
      "metadata": {
        "colab": {
          "base_uri": "https://localhost:8080/"
        },
        "id": "ubMXhjHnMh4e",
        "outputId": "226759d4-e6e1-4546-8de3-cb6977ed45d4"
      },
      "execution_count": 80,
      "outputs": [
        {
          "output_type": "execute_result",
          "data": {
            "text/plain": [
              "[18, 'Violín']"
            ]
          },
          "metadata": {},
          "execution_count": 80
        }
      ]
    },
    {
      "cell_type": "code",
      "source": [
        "#Los dos puntos sirven para saltarse la cantidad de espacios indicada espacio\n",
        "Ceci[0::2]"
      ],
      "metadata": {
        "colab": {
          "base_uri": "https://localhost:8080/"
        },
        "id": "zvTzaPVINbEA",
        "outputId": "0147634b-8f51-4626-d8ee-789c9d2d0270"
      },
      "execution_count": 84,
      "outputs": [
        {
          "output_type": "execute_result",
          "data": {
            "text/plain": [
              "[18, 1.62]"
            ]
          },
          "metadata": {},
          "execution_count": 84
        }
      ]
    },
    {
      "cell_type": "code",
      "source": [
        "Ceci[0::3]"
      ],
      "metadata": {
        "colab": {
          "base_uri": "https://localhost:8080/"
        },
        "id": "7PEeXs1TN31C",
        "outputId": "f66061ac-b279-4401-87aa-a7ce6a3e35c4"
      },
      "execution_count": 85,
      "outputs": [
        {
          "output_type": "execute_result",
          "data": {
            "text/plain": [
              "[18, 'Perro']"
            ]
          },
          "metadata": {},
          "execution_count": 85
        }
      ]
    },
    {
      "cell_type": "code",
      "source": [
        "#Múltiplos de 3\n",
        "Indices[0::3]"
      ],
      "metadata": {
        "colab": {
          "base_uri": "https://localhost:8080/"
        },
        "id": "tmtGSYDlOHWu",
        "outputId": "0b64e0ea-7d0b-4b2b-d651-ad8b27020f69"
      },
      "execution_count": 86,
      "outputs": [
        {
          "output_type": "execute_result",
          "data": {
            "text/plain": [
              "[0, 3, 6, 9, 12, 15, 18]"
            ]
          },
          "metadata": {},
          "execution_count": 86
        }
      ]
    }
  ]
}