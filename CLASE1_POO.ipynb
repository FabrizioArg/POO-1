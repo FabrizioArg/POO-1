{
  "nbformat": 4,
  "nbformat_minor": 0,
  "metadata": {
    "colab": {
      "provenance": []
    },
    "kernelspec": {
      "name": "python3",
      "display_name": "Python 3"
    },
    "language_info": {
      "name": "python"
    }
  },
  "cells": [
    {
      "cell_type": "code",
      "source": [],
      "metadata": {
        "id": "n7VkXbx-tYQ1"
      },
      "execution_count": null,
      "outputs": []
    },
    {
      "cell_type": "markdown",
      "source": [
        "# Introducción a Python\n",
        "\n",
        "Clase de hoy, aprendiendo a poder ver como usar el google colab.\n",
        "\n",
        "## ¿Qué veremos hoy?\n",
        "\n",
        "\n",
        "1.   Objetos\n",
        "2.   Variables\n",
        "3.   Ejemplo\n",
        "\n"
      ],
      "metadata": {
        "id": "z6jOkDtdqSRj"
      }
    },
    {
      "cell_type": "markdown",
      "source": [
        "**Nota: En este procesador de texto, se puede escribir en HTML y en latex.\n",
        "Por ejemplo, vamos a escribir la ecuación más hermosa de todas:** $$e^{i\\pi}+1 = 0$$"
      ],
      "metadata": {
        "id": "SB-jJ1Z8t7hv"
      }
    },
    {
      "cell_type": "markdown",
      "source": [
        "Otro ejemplo:\n",
        "\n",
        "\\begin{bmatrix}\n",
        "a_{1,1} & a_{1,2} & \\cdots & a_{1,n} \\\\\n",
        "a_{2,1} & a_{2,2} & \\cdots & a_{2,n} \\\\\n",
        "\\vdots & \\vdots & \\ddots & \\vdots \\\\\n",
        "a_{m,1} & a_{m,2} & \\cdots & a_{m,n}\n",
        "\\end{bmatrix}\n"
      ],
      "metadata": {
        "id": "bpJNu_R0xdyD"
      }
    },
    {
      "cell_type": "markdown",
      "source": [
        "### Algunos objetos en Python\n",
        "\n",
        "\n",
        "\n",
        "1.   int y float (enteros y flotantes)\n",
        "2.   str (\"string\")\n",
        "3.   Conjuntios y listas\n",
        "\n",
        "---\n",
        "\n",
        "**La función `print` y la función `type`**\n",
        "\n",
        "\n"
      ],
      "metadata": {
        "id": "oy3iF7MP6fQT"
      }
    },
    {
      "cell_type": "code",
      "source": [
        "# Vamos a imprimir Hola mundo.\n",
        "print (\"Hello World\");"
      ],
      "metadata": {
        "colab": {
          "base_uri": "https://localhost:8080/"
        },
        "id": "7BmtZ2r7x8xc",
        "outputId": "8f1289bd-b421-43a7-b9f2-a1ea501e5ef7"
      },
      "execution_count": 3,
      "outputs": [
        {
          "output_type": "stream",
          "name": "stdout",
          "text": [
            "Hello World\n"
          ]
        }
      ]
    },
    {
      "cell_type": "markdown",
      "source": [
        "#### Operaciones básicas en int o float\n",
        "\n",
        "\n",
        "\n",
        "*   $+,\\ -$  Suma y resta\n",
        "*   $*, / , **$ Multiplicación, dividir y potenciación.\n",
        "*   $\\%$ Operación modular.\n",
        "*   $//$ División al piso.\n",
        "\n",
        "\n",
        "\n",
        "\n"
      ],
      "metadata": {
        "id": "nkbdG2wfAYBe"
      }
    },
    {
      "cell_type": "code",
      "source": [
        "5+2"
      ],
      "metadata": {
        "colab": {
          "base_uri": "https://localhost:8080/"
        },
        "id": "SUsEXElNE2TW",
        "outputId": "c1598250-3711-49fa-d83a-04c0c20f45b1"
      },
      "execution_count": 4,
      "outputs": [
        {
          "output_type": "execute_result",
          "data": {
            "text/plain": [
              "7"
            ]
          },
          "metadata": {},
          "execution_count": 4
        }
      ]
    },
    {
      "cell_type": "markdown",
      "source": [
        "**Creación de variables**\n",
        "\n",
        "nombre = objeto"
      ],
      "metadata": {
        "id": "pXyFxo7yFMpQ"
      }
    },
    {
      "cell_type": "code",
      "source": [
        "# Vamos a crear dos variables\n",
        "\n",
        "x = 7\n",
        "y = 3"
      ],
      "metadata": {
        "id": "NrwalMGAFzOe"
      },
      "execution_count": 5,
      "outputs": []
    },
    {
      "cell_type": "code",
      "source": [
        "# Operaciones\n",
        "print(f\" La suma entre {x} y {y} es {x+y}\")\n",
        "print(f\" La potenciación entre {x} y {y} es {x**y}\")\n",
        "print(f\" El residuo entre {x} y {y} es {x%y}\")\n",
        "print(f\" La resta entre {x} y {y} es {x-y}\")\n",
        "print(f\" La división entre {x} y {y} es {x//y}\")"
      ],
      "metadata": {
        "colab": {
          "base_uri": "https://localhost:8080/"
        },
        "collapsed": true,
        "id": "SuQeLqsIG1Lp",
        "outputId": "8fa49e84-e672-4daa-83d6-bb1cedfe201f"
      },
      "execution_count": 10,
      "outputs": [
        {
          "output_type": "stream",
          "name": "stdout",
          "text": [
            " La suma entre 7 y 3 es 10\n",
            " La potenciación entre 7 y 3 es 343\n",
            " El residuo entre 7 y 3 es 1\n",
            " La resta entre 7 y 3 es 4\n",
            " La división entre 7 y 3 es 2\n"
          ]
        }
      ]
    },
    {
      "cell_type": "code",
      "source": [
        "# La función type nos dice el tipo de objeto\n",
        "type(x/y), type(\"César\")"
      ],
      "metadata": {
        "colab": {
          "base_uri": "https://localhost:8080/"
        },
        "id": "dilAhnzaIyCg",
        "outputId": "7c77310b-6088-4687-db05-b01b5679eab3"
      },
      "execution_count": 13,
      "outputs": [
        {
          "output_type": "execute_result",
          "data": {
            "text/plain": [
              "(float, str)"
            ]
          },
          "metadata": {},
          "execution_count": 13
        }
      ]
    },
    {
      "cell_type": "code",
      "source": [
        "type(x+y)"
      ],
      "metadata": {
        "colab": {
          "base_uri": "https://localhost:8080/"
        },
        "id": "2qv1oqD7I2Cv",
        "outputId": "6cd79e3d-7f49-4aa6-b3d8-f4347baa5c19"
      },
      "execution_count": 12,
      "outputs": [
        {
          "output_type": "execute_result",
          "data": {
            "text/plain": [
              "int"
            ]
          },
          "metadata": {},
          "execution_count": 12
        }
      ]
    }
  ]
}