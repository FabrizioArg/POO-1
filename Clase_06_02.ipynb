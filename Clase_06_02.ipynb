{
  "nbformat": 4,
  "nbformat_minor": 0,
  "metadata": {
    "colab": {
      "provenance": []
    },
    "kernelspec": {
      "name": "python3",
      "display_name": "Python 3"
    },
    "language_info": {
      "name": "python"
    }
  },
  "cells": [
    {
      "cell_type": "markdown",
      "source": [
        "#Arreglos y clases\n",
        "\n",
        "## Matrices\n",
        "\n",
        "Una matriz es un arreglo de mxn elementos.\n",
        "\n",
        "\n",
        "\\begin{bmatrix}\n",
        "a_{11} & a_{12} & \\cdots & a_{1n} \\\\\n",
        "a_{21} & a_{22} & \\cdots & a_{2n} \\\\\n",
        "\\vdots & \\vdots & \\ddots & \\vdots \\\\\n",
        "a_{m1} & a_{m2} & \\cdots & a_{mn}\n",
        "\\end{bmatrix}\n"
      ],
      "metadata": {
        "id": "M36URz46vMwI"
      }
    },
    {
      "cell_type": "code",
      "execution_count": 1,
      "metadata": {
        "colab": {
          "base_uri": "https://localhost:8080/"
        },
        "id": "hjcnIbnruQpO",
        "outputId": "2049c894-bbef-4887-cfd3-1964f1c0f8db"
      },
      "outputs": [
        {
          "output_type": "stream",
          "name": "stdout",
          "text": [
            "[[1, 2, 3], [4, 5, 6], [7, 8, 9]]\n"
          ]
        }
      ],
      "source": [
        "#Estamos creando una lista de listas (matriz)\n",
        "A = [[1,2,3],[4,5,6],[7,8,9]]\n",
        "print(A)"
      ]
    },
    {
      "cell_type": "code",
      "source": [
        "type(A)"
      ],
      "metadata": {
        "colab": {
          "base_uri": "https://localhost:8080/"
        },
        "id": "oGUUzWbyyMtd",
        "outputId": "d6dfe808-3e66-4561-db78-04b23e455741"
      },
      "execution_count": 2,
      "outputs": [
        {
          "output_type": "execute_result",
          "data": {
            "text/plain": [
              "list"
            ]
          },
          "metadata": {},
          "execution_count": 2
        }
      ]
    },
    {
      "cell_type": "code",
      "source": [
        "#Vamos a crear otra lista de listas\n",
        "B = [[21,34,40],[71,17,77],[63,81,28]]\n",
        "print(B)"
      ],
      "metadata": {
        "colab": {
          "base_uri": "https://localhost:8080/"
        },
        "id": "DM1Is-QAyPgK",
        "outputId": "b84086fd-074f-4d59-a9f4-6936170b0231"
      },
      "execution_count": 3,
      "outputs": [
        {
          "output_type": "stream",
          "name": "stdout",
          "text": [
            "[[21, 34, 40], [71, 17, 77], [63, 81, 28]]\n"
          ]
        }
      ]
    },
    {
      "cell_type": "code",
      "source": [
        "#Suma las listas pero en una concatenación.\n",
        "A+B\n",
        "print(A+B)"
      ],
      "metadata": {
        "colab": {
          "base_uri": "https://localhost:8080/"
        },
        "id": "9ins4Xj5ypSP",
        "outputId": "b8f9b35d-614f-433a-cf7b-126ad4fe44d5"
      },
      "execution_count": 5,
      "outputs": [
        {
          "output_type": "stream",
          "name": "stdout",
          "text": [
            "[[1, 2, 3], [4, 5, 6], [7, 8, 9], [21, 34, 40], [71, 17, 77], [63, 81, 28]]\n"
          ]
        }
      ]
    },
    {
      "cell_type": "code",
      "source": [
        "#Igual en una concatenación, pero ahora junta dos veces la misma.\n",
        "2*A"
      ],
      "metadata": {
        "colab": {
          "base_uri": "https://localhost:8080/"
        },
        "id": "uj4MnxnjzR-Z",
        "outputId": "a817812a-ed53-4e55-971a-52f40ff8c1a0"
      },
      "execution_count": 6,
      "outputs": [
        {
          "output_type": "execute_result",
          "data": {
            "text/plain": [
              "[[1, 2, 3], [4, 5, 6], [7, 8, 9], [1, 2, 3], [4, 5, 6], [7, 8, 9]]"
            ]
          },
          "metadata": {},
          "execution_count": 6
        }
      ]
    },
    {
      "cell_type": "code",
      "source": [
        "#Te da la primera columna\n",
        "A[0]"
      ],
      "metadata": {
        "colab": {
          "base_uri": "https://localhost:8080/"
        },
        "id": "kJ_NY1lYzuah",
        "outputId": "064ce989-7caf-4445-dae4-c7f70850e8b7"
      },
      "execution_count": 8,
      "outputs": [
        {
          "output_type": "execute_result",
          "data": {
            "text/plain": [
              "[1, 2, 3]"
            ]
          },
          "metadata": {},
          "execution_count": 8
        }
      ]
    },
    {
      "cell_type": "code",
      "source": [
        "#No se puede iterar A[0,0], sino que tiene que ser como se muestra abajo; y sirve para seleccionar la columna y el número Ej: A[0][0] = A1,1.\n",
        "A[0][0]"
      ],
      "metadata": {
        "colab": {
          "base_uri": "https://localhost:8080/"
        },
        "id": "-biJZLfGz-xg",
        "outputId": "3fd2e201-bc3f-4f24-a8c6-7f1c3ce1228a"
      },
      "execution_count": 9,
      "outputs": [
        {
          "output_type": "execute_result",
          "data": {
            "text/plain": [
              "1"
            ]
          },
          "metadata": {},
          "execution_count": 9
        }
      ]
    },
    {
      "cell_type": "markdown",
      "source": [
        "##Vectores y listas"
      ],
      "metadata": {
        "id": "aLe9eBJ31BZJ"
      }
    },
    {
      "cell_type": "code",
      "source": [
        "#De igual manera lo concatena.\n",
        "L = A[0]\n",
        "M = B[0]\n",
        "L+M\n",
        "print(L+M)\n"
      ],
      "metadata": {
        "colab": {
          "base_uri": "https://localhost:8080/"
        },
        "id": "khB5woss1Nmv",
        "outputId": "0cc8b29a-1026-4701-eed2-b69b698e924a"
      },
      "execution_count": 10,
      "outputs": [
        {
          "output_type": "stream",
          "name": "stdout",
          "text": [
            "[1, 2, 3, 21, 34, 40]\n"
          ]
        }
      ]
    },
    {
      "cell_type": "code",
      "source": [
        "#lo que se hace es asignar el valor de L[0] a una variable a y esa es igual a A[0][0], L y M son listas.\n",
        "a = L[0]\n",
        "print(a)"
      ],
      "metadata": {
        "colab": {
          "base_uri": "https://localhost:8080/"
        },
        "id": "Ki0Ix8AT15Nb",
        "outputId": "9ac8d743-9bef-41c5-c453-53db84c46817"
      },
      "execution_count": 12,
      "outputs": [
        {
          "output_type": "stream",
          "name": "stdout",
          "text": [
            "1\n"
          ]
        }
      ]
    },
    {
      "cell_type": "code",
      "source": [
        "#al sumar los dos elementos ya implementados en varaibles, te da la operación de la suma\n",
        "b = M[0]\n",
        "a+b\n",
        "print(a+b)"
      ],
      "metadata": {
        "colab": {
          "base_uri": "https://localhost:8080/"
        },
        "id": "nNF5E75u2IpA",
        "outputId": "fd125c94-c361-4e31-c276-5003318a0a93"
      },
      "execution_count": 13,
      "outputs": [
        {
          "output_type": "stream",
          "name": "stdout",
          "text": [
            "22\n"
          ]
        }
      ]
    },
    {
      "cell_type": "code",
      "source": [
        "#Al hacer la comparación te da la respuesta la cual es un booleano.\n",
        "a == 1"
      ],
      "metadata": {
        "colab": {
          "base_uri": "https://localhost:8080/"
        },
        "id": "sbngO3zd3tmw",
        "outputId": "f5db7da0-e150-4ecd-8b34-04f2aaa178f1"
      },
      "execution_count": 14,
      "outputs": [
        {
          "output_type": "execute_result",
          "data": {
            "text/plain": [
              "True"
            ]
          },
          "metadata": {},
          "execution_count": 14
        }
      ]
    },
    {
      "cell_type": "markdown",
      "source": [
        "### Suma de \"vectores\""
      ],
      "metadata": {
        "id": "E433txD03-F6"
      }
    },
    {
      "cell_type": "code",
      "source": [
        "#Se verifica que la cardinalidad de ambas sea la misma.\n",
        "len(L) == len(M)"
      ],
      "metadata": {
        "colab": {
          "base_uri": "https://localhost:8080/"
        },
        "id": "YEfQrYct4EnB",
        "outputId": "83ce3b47-aeca-4b2d-e01c-fb0d9cb1de60"
      },
      "execution_count": 15,
      "outputs": [
        {
          "output_type": "execute_result",
          "data": {
            "text/plain": [
              "True"
            ]
          },
          "metadata": {},
          "execution_count": 15
        }
      ]
    },
    {
      "cell_type": "code",
      "source": [
        "#Lo que se hace es ir sumando cada elemento dentro de una lista.\n",
        "suma = [L[0] + M[0], L[1] + M[1], L[2] + M[2]]\n",
        "print(suma)"
      ],
      "metadata": {
        "colab": {
          "base_uri": "https://localhost:8080/"
        },
        "id": "3iSXhDBm4dpF",
        "outputId": "bd2482df-455d-4cfc-d38f-c0783162599c"
      },
      "execution_count": 16,
      "outputs": [
        {
          "output_type": "stream",
          "name": "stdout",
          "text": [
            "[22, 36, 43]\n"
          ]
        }
      ]
    },
    {
      "cell_type": "code",
      "source": [
        "#Se puede hacer una suma de la siguiente manera con un bucle (for).\n",
        "suma = [L[i]+ M[i] for i in range(3)]\n",
        "print(suma)"
      ],
      "metadata": {
        "colab": {
          "base_uri": "https://localhost:8080/"
        },
        "id": "rvwcWJQm5Fiv",
        "outputId": "35e34dbd-0606-4911-b992-443c6e6b8e44"
      },
      "execution_count": 18,
      "outputs": [
        {
          "output_type": "stream",
          "name": "stdout",
          "text": [
            "[22, 36, 43]\n"
          ]
        }
      ]
    },
    {
      "cell_type": "markdown",
      "source": [
        "#### Creación de funciones globales\n",
        "\n",
        "La función para crear funciones es `def` que se cierra con un debug (`print` o `return`)"
      ],
      "metadata": {
        "id": "OEk8aN6LEM9D"
      }
    },
    {
      "cell_type": "code",
      "source": [
        "# def sirve para crear funciones, el hola() almacena un texto que se imprime solo invocando la función.\n",
        "def hola():\n",
        "  print(\"Hola, me llamo Fabrizio\")"
      ],
      "metadata": {
        "id": "G3GrkE_5E5FO"
      },
      "execution_count": 21,
      "outputs": []
    },
    {
      "cell_type": "code",
      "source": [
        "hola()"
      ],
      "metadata": {
        "colab": {
          "base_uri": "https://localhost:8080/"
        },
        "id": "OYa9kfpfFjXV",
        "outputId": "e134ea50-6605-423a-9873-8af89421d0a5"
      },
      "execution_count": 23,
      "outputs": [
        {
          "output_type": "stream",
          "name": "stdout",
          "text": [
            "Hola, me llamo Fabrizio\n"
          ]
        }
      ]
    },
    {
      "cell_type": "code",
      "source": [
        "#Se establecen parámetros como si fueran variables.\n",
        "def Saludar(s,n):\n",
        "  print(f\"Hola, me llamo {s} y tengo {n} años\")"
      ],
      "metadata": {
        "id": "9WMrdeGSGHQm"
      },
      "execution_count": 28,
      "outputs": []
    },
    {
      "cell_type": "code",
      "source": [
        "#Se invoca a la función y se ponen los parámetros deseados.\n",
        "Saludar(\"Cesar\", 18)"
      ],
      "metadata": {
        "colab": {
          "base_uri": "https://localhost:8080/"
        },
        "id": "4AiX9fClGhXQ",
        "outputId": "fdaa0558-340d-4249-a8a2-812aafb1155c"
      },
      "execution_count": 29,
      "outputs": [
        {
          "output_type": "stream",
          "name": "stdout",
          "text": [
            "Hola, me llamo Cesar y tengo 18 años\n"
          ]
        }
      ]
    },
    {
      "cell_type": "code",
      "source": [
        "# Se crea una función en la que se busca establecer los números que son par e impar.\n",
        "def par():\n",
        "  for x in range(10):\n",
        "    if x%2 == 0:\n",
        "      print(f\"{x} es par\")\n",
        "    else:\n",
        "      print(f\"{x} es impar\")"
      ],
      "metadata": {
        "id": "QdCJVV-kJAGo"
      },
      "execution_count": 33,
      "outputs": []
    },
    {
      "cell_type": "code",
      "source": [
        "par()"
      ],
      "metadata": {
        "colab": {
          "base_uri": "https://localhost:8080/"
        },
        "id": "MZVBzObDJibB",
        "outputId": "45bec076-4aa5-4240-f56f-cb6c6c93ddac"
      },
      "execution_count": 34,
      "outputs": [
        {
          "output_type": "stream",
          "name": "stdout",
          "text": [
            "0 es par\n",
            "1 es impar\n",
            "2 es par\n",
            "3 es impar\n",
            "4 es par\n",
            "5 es impar\n",
            "6 es par\n",
            "7 es impar\n",
            "8 es par\n",
            "9 es impar\n"
          ]
        }
      ]
    },
    {
      "cell_type": "code",
      "source": [
        "def suma_vectorial(L, M):\n",
        "  x = [L[i]+ M[i] for i in range(len(L))]\n",
        "  return x"
      ],
      "metadata": {
        "id": "s8K5JotyLNk-"
      },
      "execution_count": 35,
      "outputs": []
    },
    {
      "cell_type": "code",
      "source": [
        "L = [1, 2, 3]\n",
        "M = [21, 34, 40]\n",
        "\n",
        "suma_vectorial(L,M)"
      ],
      "metadata": {
        "colab": {
          "base_uri": "https://localhost:8080/"
        },
        "id": "6kimywvML78q",
        "outputId": "fdfa0cb2-f471-4aef-9084-740f0d36e348"
      },
      "execution_count": 36,
      "outputs": [
        {
          "output_type": "execute_result",
          "data": {
            "text/plain": [
              "[22, 36, 43]"
            ]
          },
          "metadata": {},
          "execution_count": 36
        }
      ]
    },
    {
      "cell_type": "markdown",
      "source": [
        "## Módulos o librerías"
      ],
      "metadata": {
        "id": "vPblp8EgM7Lr"
      }
    },
    {
      "cell_type": "code",
      "source": [
        "#el asterisco muestra todos los elementos de la librería, from math import *\n",
        "import math\n",
        "from math import sqrt, pi"
      ],
      "metadata": {
        "id": "VwRLd7dNNxfd"
      },
      "execution_count": 38,
      "outputs": []
    },
    {
      "cell_type": "code",
      "source": [
        "sqrt(68)"
      ],
      "metadata": {
        "colab": {
          "base_uri": "https://localhost:8080/"
        },
        "id": "8rgMDIQhOYOj",
        "outputId": "1c496bbb-4105-4891-d2a9-e8bf7743a17c"
      },
      "execution_count": 39,
      "outputs": [
        {
          "output_type": "execute_result",
          "data": {
            "text/plain": [
              "8.246211251235321"
            ]
          },
          "metadata": {},
          "execution_count": 39
        }
      ]
    },
    {
      "cell_type": "code",
      "source": [
        "pi"
      ],
      "metadata": {
        "colab": {
          "base_uri": "https://localhost:8080/"
        },
        "id": "RT8mjZU6OjUr",
        "outputId": "e9a4f283-ac67-4b0c-8e53-4bf0c836e134"
      },
      "execution_count": 40,
      "outputs": [
        {
          "output_type": "execute_result",
          "data": {
            "text/plain": [
              "3.141592653589793"
            ]
          },
          "metadata": {},
          "execution_count": 40
        }
      ]
    },
    {
      "cell_type": "markdown",
      "source": [
        "# El módulo NumPy\n",
        "\n",
        "La función array"
      ],
      "metadata": {
        "id": "W9qlli3NOl3r"
      }
    },
    {
      "cell_type": "code",
      "source": [
        "#La función array es un convertidor, convierte una lista en un vector.\n",
        "import numpy as np\n",
        "\n",
        "L_vector = np.array(L)\n",
        "M_vector = np.array(M)\n",
        "\n",
        "L_vector + M_vector"
      ],
      "metadata": {
        "colab": {
          "base_uri": "https://localhost:8080/"
        },
        "id": "kYC_2rJpPJ91",
        "outputId": "acd5a2f8-6dec-4456-fbc7-b8bcb173afcb"
      },
      "execution_count": 41,
      "outputs": [
        {
          "output_type": "execute_result",
          "data": {
            "text/plain": [
              "array([22, 36, 43])"
            ]
          },
          "metadata": {},
          "execution_count": 41
        }
      ]
    },
    {
      "cell_type": "code",
      "source": [
        "#Se escriben las matrices de la siguiente manera y posteriormente se usa el .reshape para acomodar la matriz segun la cantidad de filas y columnas.\n",
        "C = [9,2,2,2,3,3,2,17,2]\n",
        "A = [8,1,1,1,2,2,1,16,1]\n",
        "\n",
        "C_matriz = np.array(C).reshape(3,3)\n",
        "A_matriz = np.array(A).reshape(3,3)\n",
        "\n",
        "print(C_matriz)\n",
        "print(A_matriz)\n",
        "\n"
      ],
      "metadata": {
        "colab": {
          "base_uri": "https://localhost:8080/"
        },
        "id": "FaW7IsghQBx-",
        "outputId": "cd837ee0-6126-47e0-ee05-2dce1e458707"
      },
      "execution_count": 43,
      "outputs": [
        {
          "output_type": "stream",
          "name": "stdout",
          "text": [
            "[[ 9  2  2]\n",
            " [ 2  3  3]\n",
            " [ 2 17  2]]\n",
            "[[ 8  1  1]\n",
            " [ 1  2  2]\n",
            " [ 1 16  1]]\n"
          ]
        }
      ]
    },
    {
      "cell_type": "code",
      "source": [
        "#El @ sirve para hacer la multiplicación de matrices.\n",
        "C_matriz @ A_matriz"
      ],
      "metadata": {
        "colab": {
          "base_uri": "https://localhost:8080/"
        },
        "id": "7P_Un2YpQXMO",
        "outputId": "0a55aefd-cd8d-4729-8b91-e1e938b04082"
      },
      "execution_count": 44,
      "outputs": [
        {
          "output_type": "execute_result",
          "data": {
            "text/plain": [
              "array([[76, 45, 15],\n",
              "       [22, 56, 11],\n",
              "       [35, 68, 38]])"
            ]
          },
          "metadata": {},
          "execution_count": 44
        }
      ]
    },
    {
      "cell_type": "code",
      "source": [
        "#Al no ser conmutativas se hacen las dos operaciones.\n",
        "A_matriz @ C_matriz"
      ],
      "metadata": {
        "colab": {
          "base_uri": "https://localhost:8080/"
        },
        "id": "WXz1nA_0RRsT",
        "outputId": "15ff6440-f42e-45f8-cfe5-8777bfa28144"
      },
      "execution_count": 45,
      "outputs": [
        {
          "output_type": "execute_result",
          "data": {
            "text/plain": [
              "array([[76, 36, 21],\n",
              "       [17, 42, 12],\n",
              "       [43, 67, 52]])"
            ]
          },
          "metadata": {},
          "execution_count": 45
        }
      ]
    }
  ]
}