{
  "nbformat": 4,
  "nbformat_minor": 0,
  "metadata": {
    "colab": {
      "provenance": []
    },
    "kernelspec": {
      "name": "python3",
      "display_name": "Python 3"
    },
    "language_info": {
      "name": "python"
    }
  },
  "cells": [
    {
      "cell_type": "code",
      "execution_count": 1,
      "metadata": {
        "colab": {
          "base_uri": "https://localhost:8080/"
        },
        "id": "5m_ZYBdt38oq",
        "outputId": "008bbf4e-b61d-443c-fe04-a14dfded2931"
      },
      "outputs": [
        {
          "output_type": "stream",
          "name": "stdout",
          "text": [
            "Hola Mundo!\n"
          ]
        }
      ],
      "source": [
        "#Ejercicio 1\n",
        "print(\"Hola Mundo!\")"
      ]
    },
    {
      "cell_type": "code",
      "source": [
        "#Ejercicio 2\n",
        "nombre = \"Fabrizio\"\n",
        "nombre\n"
      ],
      "metadata": {
        "colab": {
          "base_uri": "https://localhost:8080/",
          "height": 35
        },
        "id": "D5fbPmrp4QT5",
        "outputId": "19416f0c-494a-40bb-a07c-5a9fc4ce1f2a"
      },
      "execution_count": 2,
      "outputs": [
        {
          "output_type": "execute_result",
          "data": {
            "text/plain": [
              "'Fabrizio'"
            ],
            "application/vnd.google.colaboratory.intrinsic+json": {
              "type": "string"
            }
          },
          "metadata": {},
          "execution_count": 2
        }
      ]
    },
    {
      "cell_type": "code",
      "source": [
        "#Ejercicio 3\n",
        "numero = int(input(\"Ingresa un número entero \"))\n",
        "numero = numero*2\n",
        "numero\n"
      ],
      "metadata": {
        "colab": {
          "base_uri": "https://localhost:8080/"
        },
        "id": "CmMky7Ox5UW7",
        "outputId": "a2b466aa-b689-456c-9242-4c7102dce050"
      },
      "execution_count": 4,
      "outputs": [
        {
          "name": "stdout",
          "output_type": "stream",
          "text": [
            "Ingresa un número entero 5\n"
          ]
        },
        {
          "output_type": "execute_result",
          "data": {
            "text/plain": [
              "10"
            ]
          },
          "metadata": {},
          "execution_count": 4
        }
      ]
    },
    {
      "cell_type": "code",
      "source": [
        "#Ejercicio 4\n",
        "n1 = int(input(\"Ingresa un primero número \"))\n",
        "n2 = int(input(\"Ingresa un segundo número \"))\n",
        "suma = n1 +n2\n",
        "print(f\"La suma es: {suma}\")"
      ],
      "metadata": {
        "colab": {
          "base_uri": "https://localhost:8080/"
        },
        "id": "nln6DJRo5ozi",
        "outputId": "6bf1b92a-280e-43da-debf-cc7b4ead1482"
      },
      "execution_count": 7,
      "outputs": [
        {
          "output_type": "stream",
          "name": "stdout",
          "text": [
            "Ingresa un primero número 1\n",
            "Ingresa un segundo número 2\n",
            "La suma es: 3\n"
          ]
        }
      ]
    },
    {
      "cell_type": "code",
      "source": [
        "#Ejercicio 5\n",
        "Lista = [1,2,3,4,5]\n",
        "print(f\"Primer elemento: {Lista[0]} Último elemento: {Lista[4]}\")"
      ],
      "metadata": {
        "colab": {
          "base_uri": "https://localhost:8080/"
        },
        "id": "_5ivydcz6fLN",
        "outputId": "0d7d29e9-b551-4537-e18f-cb9e1c3b062d"
      },
      "execution_count": 8,
      "outputs": [
        {
          "output_type": "stream",
          "name": "stdout",
          "text": [
            "Primer elemento: 1 Último elemento: 5\n"
          ]
        }
      ]
    },
    {
      "cell_type": "code",
      "source": [
        "#Ejercicio 6\n",
        "num = int(input(\"Ingresa un número \"))\n",
        "if num % 2 == 0:\n",
        " print(\"El número es par \")\n",
        "else:\n",
        " print(\"el número es impar\")\n"
      ],
      "metadata": {
        "colab": {
          "base_uri": "https://localhost:8080/"
        },
        "id": "5mmx8oWS7Evr",
        "outputId": "91116e87-7fb9-4f29-f35e-e2effdece7df"
      },
      "execution_count": 13,
      "outputs": [
        {
          "output_type": "stream",
          "name": "stdout",
          "text": [
            "Ingresa un número 12\n",
            "El número es par \n"
          ]
        }
      ]
    },
    {
      "cell_type": "code",
      "source": [
        "#Ejercicio 7\n",
        "for i in range(1,11):\n",
        "  print(i)"
      ],
      "metadata": {
        "colab": {
          "base_uri": "https://localhost:8080/"
        },
        "id": "JshVbxWM8u0p",
        "outputId": "2a65dd02-4cc4-4db7-b30a-51909210e268"
      },
      "execution_count": 14,
      "outputs": [
        {
          "output_type": "stream",
          "name": "stdout",
          "text": [
            "1\n",
            "2\n",
            "3\n",
            "4\n",
            "5\n",
            "6\n",
            "7\n",
            "8\n",
            "9\n",
            "10\n"
          ]
        }
      ]
    },
    {
      "cell_type": "code",
      "source": [
        "#Ejercicio 8\n",
        "for i in range(0,101):\n",
        "  suma = i + suma\n",
        "print(f\"La suma de los primeros 100 números naturales es: {suma}\")\n"
      ],
      "metadata": {
        "colab": {
          "base_uri": "https://localhost:8080/"
        },
        "id": "Npue5ntQ89nd",
        "outputId": "2db03eb5-2189-4b9d-a6d3-e9da351be44a"
      },
      "execution_count": 28,
      "outputs": [
        {
          "output_type": "stream",
          "name": "stdout",
          "text": [
            "La suma de los primeros 100 números naturales es: 5050\n"
          ]
        }
      ]
    },
    {
      "cell_type": "code",
      "source": [
        "#Ejercicio 9\n",
        "def cuadrado(x):\n",
        "  result = x**2\n",
        "  return result\n",
        "x = int(input(\"Ingresa un número \"))\n",
        "print(f\"El cuadrado del número ingresado es: {cuadrado(x)}\")"
      ],
      "metadata": {
        "colab": {
          "base_uri": "https://localhost:8080/"
        },
        "id": "ULOZCVyI9uH3",
        "outputId": "11fb375f-c86a-4ad1-a232-69e68b51f483"
      },
      "execution_count": 20,
      "outputs": [
        {
          "output_type": "stream",
          "name": "stdout",
          "text": [
            "Ingresa un número 40\n",
            "El cuadrado del número ingresado es: 1600\n"
          ]
        }
      ]
    },
    {
      "cell_type": "code",
      "source": [
        "#Ejercicio 10\n",
        "\n",
        "def contar_vocales(texto):\n",
        " vocales = \"aeiouAEIOU\"\n",
        " cont = 0\n",
        " for char in texto:\n",
        "  if char in vocales:\n",
        "    cont += 1\n",
        " return cont\n",
        "\n",
        "texto = input(\"Ingresa un texto \")\n",
        "print(f\"{texto} tiene {contar_vocales(texto)}\")"
      ],
      "metadata": {
        "colab": {
          "base_uri": "https://localhost:8080/"
        },
        "id": "uvDUrWip-rFV",
        "outputId": "b8320e5c-68d8-406d-cd89-ab06f53c8170"
      },
      "execution_count": 56,
      "outputs": [
        {
          "output_type": "stream",
          "name": "stdout",
          "text": [
            "Ingresa un texto Cecilia\n",
            "Cecilia tiene 4\n"
          ]
        }
      ]
    },
    {
      "cell_type": "code",
      "source": [
        "#Ejercicoo 11\n",
        "pares = {i for i in range(11) if i % 2 == 0}\n",
        "print(f\"Pares: {pares}\")\n"
      ],
      "metadata": {
        "colab": {
          "base_uri": "https://localhost:8080/"
        },
        "id": "KtebxJQ6_xWB",
        "outputId": "fc46e027-727b-4b93-c658-b26648d1f231"
      },
      "execution_count": 33,
      "outputs": [
        {
          "output_type": "stream",
          "name": "stdout",
          "text": [
            "Pares: {0, 2, 4, 6, 8, 10}\n"
          ]
        }
      ]
    },
    {
      "cell_type": "code",
      "source": [
        "#Ejercicio 12\n",
        "Diccionario = {\"Marina\" : 21, \"Alvaro\": 18, \"Ceci\": 19, \"Fabrizio\" : 19}\n",
        "nombre = input(\"Ingrese el nombre de la perosna que quiera saber su edad \")\n",
        "if nombre in Diccionario:\n",
        "  print(f\"La edad de {nombre} es {Diccionario[nombre]}\")\n",
        "else:\n",
        "  print(\"No se encuentra dentro del diccionario\")"
      ],
      "metadata": {
        "colab": {
          "base_uri": "https://localhost:8080/"
        },
        "id": "-bNN9ToYBL_o",
        "outputId": "e4c02f6b-1073-4d15-a400-26b3c9ec989d"
      },
      "execution_count": 37,
      "outputs": [
        {
          "output_type": "stream",
          "name": "stdout",
          "text": [
            "Ingrese el nombre de la perosna que quiera saber su edad Fabrizio\n",
            "La edad de Fabrizio es 19\n"
          ]
        }
      ]
    },
    {
      "cell_type": "code",
      "source": [
        "#Ejercicio 13\n",
        "L = [1,111,123,22,230]\n",
        "r = max(L)\n",
        "print(f\"El número más grande de la lista es: {r}\")"
      ],
      "metadata": {
        "colab": {
          "base_uri": "https://localhost:8080/"
        },
        "id": "qQtXYl4tFRGG",
        "outputId": "9df90b1e-fb32-4f14-f0fd-112c007b382d"
      },
      "execution_count": 39,
      "outputs": [
        {
          "output_type": "stream",
          "name": "stdout",
          "text": [
            "El número más grande de la lista es: 230\n"
          ]
        }
      ]
    },
    {
      "cell_type": "code",
      "source": [
        "#Ejercicio 14\n",
        "def Promedio(lista):\n",
        "  prom = sum(lista)/len(lista)\n",
        "  return prom\n",
        "\n",
        "Lista = [4,6,8,10,5]\n",
        "Prom = Promedio(Lista)\n",
        "print(f\"El promedio es {Prom}\")\n",
        "\n"
      ],
      "metadata": {
        "colab": {
          "base_uri": "https://localhost:8080/"
        },
        "id": "1Fbn8OmZGEQX",
        "outputId": "c68eb5ef-ca53-4a06-cc2a-83e6878ee4c3"
      },
      "execution_count": 51,
      "outputs": [
        {
          "output_type": "stream",
          "name": "stdout",
          "text": [
            "El promedio es 6.6\n"
          ]
        }
      ]
    },
    {
      "cell_type": "code",
      "source": [
        "#Ejercicio 15\n",
        "palabra = input(\"Ingrese una palabra \")\n",
        "if palabra == palabra[::-1]:\n",
        " print(\"La palabra es un palíndromo\")\n",
        "else:\n",
        " print(\"La palabra no es palíndromo\")\n",
        "\n",
        "\n"
      ],
      "metadata": {
        "colab": {
          "base_uri": "https://localhost:8080/"
        },
        "id": "2mWlE-OQVSh2",
        "outputId": "bcba8c3d-d0f8-460d-975b-8dc05f2e7b94"
      },
      "execution_count": 65,
      "outputs": [
        {
          "output_type": "stream",
          "name": "stdout",
          "text": [
            "Ingrese una palabra oso\n",
            "La palabra es un palíndromo\n"
          ]
        }
      ]
    },
    {
      "cell_type": "code",
      "source": [
        "#Ejercicio 16\n",
        "num1 = int(input(\"Ingrese un número \"))\n",
        "num2 = int(int(input(\"Ingrese otro número \")))\n",
        "\n",
        "if num1 > num2:\n",
        "  print(f\"{num1} es el mayor\")\n",
        "else:\n",
        "  print(f\"{num2} es el mayor\")"
      ],
      "metadata": {
        "colab": {
          "base_uri": "https://localhost:8080/"
        },
        "id": "P_oz1oJRXnF3",
        "outputId": "724202ed-4c58-4f83-fe5a-e9810edff1b9"
      },
      "execution_count": 68,
      "outputs": [
        {
          "output_type": "stream",
          "name": "stdout",
          "text": [
            "Ingrese un número 12\n",
            "Ingrese otro número 123\n",
            "123 es el mayor\n"
          ]
        }
      ]
    },
    {
      "cell_type": "code",
      "source": [
        "#Ejercicio 17\n",
        "num = int(input(\"Ingrese el número del que quiera su tabla de multiplicar \"))\n",
        "for i in range(11):\n",
        "  print(f\"{num} x {i} = {num*i}\")"
      ],
      "metadata": {
        "colab": {
          "base_uri": "https://localhost:8080/"
        },
        "id": "5aPT7P-PZZ3D",
        "outputId": "9d174e46-13fa-4b59-fe7a-cdd05a402b2d"
      },
      "execution_count": 72,
      "outputs": [
        {
          "output_type": "stream",
          "name": "stdout",
          "text": [
            "Ingrese el número del que quiera su tabla de multiplicar 3\n",
            "3 x 0 = 0\n",
            "3 x 1 = 3\n",
            "3 x 2 = 6\n",
            "3 x 3 = 9\n",
            "3 x 4 = 12\n",
            "3 x 5 = 15\n",
            "3 x 6 = 18\n",
            "3 x 7 = 21\n",
            "3 x 8 = 24\n",
            "3 x 9 = 27\n",
            "3 x 10 = 30\n"
          ]
        }
      ]
    }
  ]
}